{
 "cells": [
  {
   "cell_type": "code",
   "execution_count": 1,
   "id": "ed6ed82c",
   "metadata": {
    "execution": {
     "iopub.execute_input": "2024-05-31T17:05:43.184850Z",
     "iopub.status.busy": "2024-05-31T17:05:43.183921Z",
     "iopub.status.idle": "2024-05-31T17:05:45.544026Z",
     "shell.execute_reply": "2024-05-31T17:05:45.542932Z"
    },
    "papermill": {
     "duration": 2.368506,
     "end_time": "2024-05-31T17:05:45.546700",
     "exception": false,
     "start_time": "2024-05-31T17:05:43.178194",
     "status": "completed"
    },
    "tags": []
   },
   "outputs": [],
   "source": [
    "#IMPORTING NECESSARY LIBRARIES\n",
    "\n",
    "import pandas as pd\n",
    "# import pylab as pl\n",
    "import numpy as np\n",
    "from sklearn.preprocessing import StandardScaler\n",
    "# import scipy.optimize as opt\n",
    "# import statsmodels.api as sm\n",
    "from sklearn import preprocessing\n",
    "'exec(% matplotlib inline)'\n",
    "import matplotlib.pyplot as plt\n",
    "# import matplotlib.mlab as mlab\n",
    "import seaborn as sns\n",
    "from sklearn.model_selection import train_test_split\n",
    "from sklearn.linear_model import LogisticRegression\n",
    "from sklearn.metrics import accuracy_score\n",
    "from sklearn.metrics import confusion_matrix, classification_report"
   ]
  },
  {
   "cell_type": "code",
   "execution_count": 2,
   "id": "f41ffa29",
   "metadata": {
    "execution": {
     "iopub.execute_input": "2024-05-31T17:05:45.556343Z",
     "iopub.status.busy": "2024-05-31T17:05:45.555849Z",
     "iopub.status.idle": "2024-05-31T17:05:45.587100Z",
     "shell.execute_reply": "2024-05-31T17:05:45.585977Z"
    },
    "papermill": {
     "duration": 0.038731,
     "end_time": "2024-05-31T17:05:45.589479",
     "exception": false,
     "start_time": "2024-05-31T17:05:45.550748",
     "status": "completed"
    },
    "tags": []
   },
   "outputs": [],
   "source": [
    "#Reading the file\n",
    "dataset = pd.read_csv(\"/kaggle/input/framingham-heart-study-dataset/framingham.csv\")"
   ]
  },
  {
   "cell_type": "code",
   "execution_count": 3,
   "id": "aedc5425",
   "metadata": {
    "execution": {
     "iopub.execute_input": "2024-05-31T17:05:45.598544Z",
     "iopub.status.busy": "2024-05-31T17:05:45.598226Z",
     "iopub.status.idle": "2024-05-31T17:05:45.628795Z",
     "shell.execute_reply": "2024-05-31T17:05:45.627810Z"
    },
    "papermill": {
     "duration": 0.037788,
     "end_time": "2024-05-31T17:05:45.631142",
     "exception": false,
     "start_time": "2024-05-31T17:05:45.593354",
     "status": "completed"
    },
    "tags": []
   },
   "outputs": [
    {
     "data": {
      "text/html": [
       "<div>\n",
       "<style scoped>\n",
       "    .dataframe tbody tr th:only-of-type {\n",
       "        vertical-align: middle;\n",
       "    }\n",
       "\n",
       "    .dataframe tbody tr th {\n",
       "        vertical-align: top;\n",
       "    }\n",
       "\n",
       "    .dataframe thead th {\n",
       "        text-align: right;\n",
       "    }\n",
       "</style>\n",
       "<table border=\"1\" class=\"dataframe\">\n",
       "  <thead>\n",
       "    <tr style=\"text-align: right;\">\n",
       "      <th></th>\n",
       "      <th>male</th>\n",
       "      <th>age</th>\n",
       "      <th>education</th>\n",
       "      <th>currentSmoker</th>\n",
       "      <th>cigsPerDay</th>\n",
       "      <th>BPMeds</th>\n",
       "      <th>prevalentStroke</th>\n",
       "      <th>prevalentHyp</th>\n",
       "      <th>diabetes</th>\n",
       "      <th>totChol</th>\n",
       "      <th>sysBP</th>\n",
       "      <th>diaBP</th>\n",
       "      <th>BMI</th>\n",
       "      <th>heartRate</th>\n",
       "      <th>glucose</th>\n",
       "      <th>TenYearCHD</th>\n",
       "    </tr>\n",
       "  </thead>\n",
       "  <tbody>\n",
       "    <tr>\n",
       "      <th>0</th>\n",
       "      <td>1</td>\n",
       "      <td>39</td>\n",
       "      <td>4.0</td>\n",
       "      <td>0</td>\n",
       "      <td>0.0</td>\n",
       "      <td>0.0</td>\n",
       "      <td>0</td>\n",
       "      <td>0</td>\n",
       "      <td>0</td>\n",
       "      <td>195.0</td>\n",
       "      <td>106.0</td>\n",
       "      <td>70.0</td>\n",
       "      <td>26.97</td>\n",
       "      <td>80.0</td>\n",
       "      <td>77.0</td>\n",
       "      <td>0</td>\n",
       "    </tr>\n",
       "    <tr>\n",
       "      <th>1</th>\n",
       "      <td>0</td>\n",
       "      <td>46</td>\n",
       "      <td>2.0</td>\n",
       "      <td>0</td>\n",
       "      <td>0.0</td>\n",
       "      <td>0.0</td>\n",
       "      <td>0</td>\n",
       "      <td>0</td>\n",
       "      <td>0</td>\n",
       "      <td>250.0</td>\n",
       "      <td>121.0</td>\n",
       "      <td>81.0</td>\n",
       "      <td>28.73</td>\n",
       "      <td>95.0</td>\n",
       "      <td>76.0</td>\n",
       "      <td>0</td>\n",
       "    </tr>\n",
       "    <tr>\n",
       "      <th>2</th>\n",
       "      <td>1</td>\n",
       "      <td>48</td>\n",
       "      <td>1.0</td>\n",
       "      <td>1</td>\n",
       "      <td>20.0</td>\n",
       "      <td>0.0</td>\n",
       "      <td>0</td>\n",
       "      <td>0</td>\n",
       "      <td>0</td>\n",
       "      <td>245.0</td>\n",
       "      <td>127.5</td>\n",
       "      <td>80.0</td>\n",
       "      <td>25.34</td>\n",
       "      <td>75.0</td>\n",
       "      <td>70.0</td>\n",
       "      <td>0</td>\n",
       "    </tr>\n",
       "    <tr>\n",
       "      <th>3</th>\n",
       "      <td>0</td>\n",
       "      <td>61</td>\n",
       "      <td>3.0</td>\n",
       "      <td>1</td>\n",
       "      <td>30.0</td>\n",
       "      <td>0.0</td>\n",
       "      <td>0</td>\n",
       "      <td>1</td>\n",
       "      <td>0</td>\n",
       "      <td>225.0</td>\n",
       "      <td>150.0</td>\n",
       "      <td>95.0</td>\n",
       "      <td>28.58</td>\n",
       "      <td>65.0</td>\n",
       "      <td>103.0</td>\n",
       "      <td>1</td>\n",
       "    </tr>\n",
       "    <tr>\n",
       "      <th>4</th>\n",
       "      <td>0</td>\n",
       "      <td>46</td>\n",
       "      <td>3.0</td>\n",
       "      <td>1</td>\n",
       "      <td>23.0</td>\n",
       "      <td>0.0</td>\n",
       "      <td>0</td>\n",
       "      <td>0</td>\n",
       "      <td>0</td>\n",
       "      <td>285.0</td>\n",
       "      <td>130.0</td>\n",
       "      <td>84.0</td>\n",
       "      <td>23.10</td>\n",
       "      <td>85.0</td>\n",
       "      <td>85.0</td>\n",
       "      <td>0</td>\n",
       "    </tr>\n",
       "  </tbody>\n",
       "</table>\n",
       "</div>"
      ],
      "text/plain": [
       "   male  age  education  currentSmoker  cigsPerDay  BPMeds  prevalentStroke  \\\n",
       "0     1   39        4.0              0         0.0     0.0                0   \n",
       "1     0   46        2.0              0         0.0     0.0                0   \n",
       "2     1   48        1.0              1        20.0     0.0                0   \n",
       "3     0   61        3.0              1        30.0     0.0                0   \n",
       "4     0   46        3.0              1        23.0     0.0                0   \n",
       "\n",
       "   prevalentHyp  diabetes  totChol  sysBP  diaBP    BMI  heartRate  glucose  \\\n",
       "0             0         0    195.0  106.0   70.0  26.97       80.0     77.0   \n",
       "1             0         0    250.0  121.0   81.0  28.73       95.0     76.0   \n",
       "2             0         0    245.0  127.5   80.0  25.34       75.0     70.0   \n",
       "3             1         0    225.0  150.0   95.0  28.58       65.0    103.0   \n",
       "4             0         0    285.0  130.0   84.0  23.10       85.0     85.0   \n",
       "\n",
       "   TenYearCHD  \n",
       "0           0  \n",
       "1           0  \n",
       "2           0  \n",
       "3           1  \n",
       "4           0  "
      ]
     },
     "execution_count": 3,
     "metadata": {},
     "output_type": "execute_result"
    }
   ],
   "source": [
    "dataset.head()"
   ]
  },
  {
   "cell_type": "code",
   "execution_count": 4,
   "id": "f045c093",
   "metadata": {
    "execution": {
     "iopub.execute_input": "2024-05-31T17:05:45.640663Z",
     "iopub.status.busy": "2024-05-31T17:05:45.640334Z",
     "iopub.status.idle": "2024-05-31T17:05:45.651794Z",
     "shell.execute_reply": "2024-05-31T17:05:45.650860Z"
    },
    "papermill": {
     "duration": 0.019179,
     "end_time": "2024-05-31T17:05:45.654461",
     "exception": false,
     "start_time": "2024-05-31T17:05:45.635282",
     "status": "completed"
    },
    "tags": []
   },
   "outputs": [
    {
     "name": "stdout",
     "output_type": "stream",
     "text": [
      "(4240, 15)\n"
     ]
    }
   ],
   "source": [
    "dataset.drop(columns='education', axis = 1, inplace = True)\n",
    "dataset.rename(columns={'male':'gender'}, inplace=True)\n",
    "print(dataset.shape)"
   ]
  },
  {
   "cell_type": "code",
   "execution_count": 5,
   "id": "8fcdb7e8",
   "metadata": {
    "execution": {
     "iopub.execute_input": "2024-05-31T17:05:45.664548Z",
     "iopub.status.busy": "2024-05-31T17:05:45.663842Z",
     "iopub.status.idle": "2024-05-31T17:05:45.683102Z",
     "shell.execute_reply": "2024-05-31T17:05:45.682016Z"
    },
    "papermill": {
     "duration": 0.026783,
     "end_time": "2024-05-31T17:05:45.685451",
     "exception": false,
     "start_time": "2024-05-31T17:05:45.658668",
     "status": "completed"
    },
    "tags": []
   },
   "outputs": [
    {
     "name": "stdout",
     "output_type": "stream",
     "text": [
      "<class 'pandas.core.frame.DataFrame'>\n",
      "RangeIndex: 4240 entries, 0 to 4239\n",
      "Data columns (total 15 columns):\n",
      " #   Column           Non-Null Count  Dtype  \n",
      "---  ------           --------------  -----  \n",
      " 0   gender           4240 non-null   int64  \n",
      " 1   age              4240 non-null   int64  \n",
      " 2   currentSmoker    4240 non-null   int64  \n",
      " 3   cigsPerDay       4211 non-null   float64\n",
      " 4   BPMeds           4187 non-null   float64\n",
      " 5   prevalentStroke  4240 non-null   int64  \n",
      " 6   prevalentHyp     4240 non-null   int64  \n",
      " 7   diabetes         4240 non-null   int64  \n",
      " 8   totChol          4190 non-null   float64\n",
      " 9   sysBP            4240 non-null   float64\n",
      " 10  diaBP            4240 non-null   float64\n",
      " 11  BMI              4221 non-null   float64\n",
      " 12  heartRate        4239 non-null   float64\n",
      " 13  glucose          3852 non-null   float64\n",
      " 14  TenYearCHD       4240 non-null   int64  \n",
      "dtypes: float64(8), int64(7)\n",
      "memory usage: 497.0 KB\n"
     ]
    }
   ],
   "source": [
    "dataset.info()"
   ]
  },
  {
   "cell_type": "code",
   "execution_count": 6,
   "id": "52559587",
   "metadata": {
    "execution": {
     "iopub.execute_input": "2024-05-31T17:05:45.695656Z",
     "iopub.status.busy": "2024-05-31T17:05:45.695054Z",
     "iopub.status.idle": "2024-05-31T17:05:45.709169Z",
     "shell.execute_reply": "2024-05-31T17:05:45.708185Z"
    },
    "papermill": {
     "duration": 0.021797,
     "end_time": "2024-05-31T17:05:45.711459",
     "exception": false,
     "start_time": "2024-05-31T17:05:45.689662",
     "status": "completed"
    },
    "tags": []
   },
   "outputs": [
    {
     "name": "stdout",
     "output_type": "stream",
     "text": [
      "<class 'pandas.core.frame.DataFrame'>\n",
      "Index: 3751 entries, 0 to 4239\n",
      "Data columns (total 15 columns):\n",
      " #   Column           Non-Null Count  Dtype  \n",
      "---  ------           --------------  -----  \n",
      " 0   gender           3751 non-null   int64  \n",
      " 1   age              3751 non-null   int64  \n",
      " 2   currentSmoker    3751 non-null   int64  \n",
      " 3   cigsPerDay       3751 non-null   float64\n",
      " 4   BPMeds           3751 non-null   float64\n",
      " 5   prevalentStroke  3751 non-null   int64  \n",
      " 6   prevalentHyp     3751 non-null   int64  \n",
      " 7   diabetes         3751 non-null   int64  \n",
      " 8   totChol          3751 non-null   float64\n",
      " 9   sysBP            3751 non-null   float64\n",
      " 10  diaBP            3751 non-null   float64\n",
      " 11  BMI              3751 non-null   float64\n",
      " 12  heartRate        3751 non-null   float64\n",
      " 13  glucose          3751 non-null   float64\n",
      " 14  TenYearCHD       3751 non-null   int64  \n",
      "dtypes: float64(8), int64(7)\n",
      "memory usage: 468.9 KB\n",
      "(3751, 15)\n"
     ]
    }
   ],
   "source": [
    "#REMOVING NULL VALUES ROWS\n",
    "dataset.dropna(axis=0, inplace=True)\n",
    "dataset.info()\n",
    "print(dataset.shape)"
   ]
  },
  {
   "cell_type": "code",
   "execution_count": 7,
   "id": "adad48d9",
   "metadata": {
    "execution": {
     "iopub.execute_input": "2024-05-31T17:05:45.721373Z",
     "iopub.status.busy": "2024-05-31T17:05:45.721031Z",
     "iopub.status.idle": "2024-05-31T17:05:45.732500Z",
     "shell.execute_reply": "2024-05-31T17:05:45.731232Z"
    },
    "papermill": {
     "duration": 0.018912,
     "end_time": "2024-05-31T17:05:45.734637",
     "exception": false,
     "start_time": "2024-05-31T17:05:45.715725",
     "status": "completed"
    },
    "tags": []
   },
   "outputs": [
    {
     "name": "stdout",
     "output_type": "stream",
     "text": [
      "Train set: (3000, 14) (3000,)\n",
      "Test set: (751, 14) (751,)\n"
     ]
    }
   ],
   "source": [
    "#TRAIN TEST AND SPLIT FOR TRAINING\n",
    "\n",
    "x = dataset.iloc[:,:-1].values\n",
    "y = dataset.iloc[:,-1].values\n",
    "\n",
    "sc = StandardScaler()\n",
    "x = sc.fit_transform(x)\n",
    "\n",
    "xtrain, xtest, ytrain, ytest = train_test_split(x, y, test_size = 0.2, random_state = 101)\n",
    "print ('Train set:', xtrain.shape,  ytrain.shape)\n",
    "print ('Test set:', xtest.shape,  ytest.shape)"
   ]
  },
  {
   "cell_type": "code",
   "execution_count": 8,
   "id": "8f862113",
   "metadata": {
    "execution": {
     "iopub.execute_input": "2024-05-31T17:05:45.744841Z",
     "iopub.status.busy": "2024-05-31T17:05:45.744273Z",
     "iopub.status.idle": "2024-05-31T17:05:45.767572Z",
     "shell.execute_reply": "2024-05-31T17:05:45.766306Z"
    },
    "papermill": {
     "duration": 0.032102,
     "end_time": "2024-05-31T17:05:45.771037",
     "exception": false,
     "start_time": "2024-05-31T17:05:45.738935",
     "status": "completed"
    },
    "tags": []
   },
   "outputs": [],
   "source": [
    "log_reg = LogisticRegression()\n",
    "log_reg.fit(xtrain, ytrain)\n",
    "y_pred = log_reg.predict(xtest)"
   ]
  },
  {
   "cell_type": "code",
   "execution_count": 9,
   "id": "015241dd",
   "metadata": {
    "execution": {
     "iopub.execute_input": "2024-05-31T17:05:45.787146Z",
     "iopub.status.busy": "2024-05-31T17:05:45.786624Z",
     "iopub.status.idle": "2024-05-31T17:05:45.793717Z",
     "shell.execute_reply": "2024-05-31T17:05:45.792699Z"
    },
    "papermill": {
     "duration": 0.018621,
     "end_time": "2024-05-31T17:05:45.796970",
     "exception": false,
     "start_time": "2024-05-31T17:05:45.778349",
     "status": "completed"
    },
    "tags": []
   },
   "outputs": [
    {
     "name": "stdout",
     "output_type": "stream",
     "text": [
      "Accuracy of the model is = 0.8615179760319573\n"
     ]
    }
   ],
   "source": [
    "# Evaluation and accuracy\n",
    "print('Accuracy of the model is =', accuracy_score(ytest, y_pred))"
   ]
  },
  {
   "cell_type": "code",
   "execution_count": 10,
   "id": "22db550e",
   "metadata": {
    "execution": {
     "iopub.execute_input": "2024-05-31T17:05:45.813584Z",
     "iopub.status.busy": "2024-05-31T17:05:45.813064Z",
     "iopub.status.idle": "2024-05-31T17:05:46.135547Z",
     "shell.execute_reply": "2024-05-31T17:05:46.134480Z"
    },
    "papermill": {
     "duration": 0.33376,
     "end_time": "2024-05-31T17:05:46.138060",
     "exception": false,
     "start_time": "2024-05-31T17:05:45.804300",
     "status": "completed"
    },
    "tags": []
   },
   "outputs": [
    {
     "data": {
      "image/png": "[encoded data removed]",
      "text/plain": [
       "<Figure size 800x500 with 2 Axes>"
      ]
     },
     "metadata": {},
     "output_type": "display_data"
    },
    {
     "name": "stdout",
     "output_type": "stream",
     "text": [
      "The details for confusion matrix is =\n",
      "              precision    recall  f1-score   support\n",
      "\n",
      "           0       0.87      0.99      0.92       645\n",
      "           1       0.56      0.09      0.16       106\n",
      "\n",
      "    accuracy                           0.86       751\n",
      "   macro avg       0.71      0.54      0.54       751\n",
      "weighted avg       0.82      0.86      0.82       751\n",
      "\n"
     ]
    }
   ],
   "source": [
    "# Confusion matrix \n",
    "\n",
    "cm = confusion_matrix(ytest, y_pred)\n",
    "conf_matrix = pd.DataFrame(data = cm, columns = ['Predicted:0', 'Predicted:1'], index =['Actual:0', 'Actual:1'])\n",
    "\n",
    "plt.figure(figsize = (8, 5))\n",
    "sns.heatmap(conf_matrix, annot = True, fmt = 'd', cmap = \"Blues\")\n",
    "plt.show()\n",
    "print('The details for confusion matrix is =')\n",
    "print (classification_report(ytest, y_pred))"
   ]
  },
  {
   "cell_type": "code",
   "execution_count": 11,
   "id": "991d0c19",
   "metadata": {
    "execution": {
     "iopub.execute_input": "2024-05-31T17:05:46.149582Z",
     "iopub.status.busy": "2024-05-31T17:05:46.149220Z",
     "iopub.status.idle": "2024-05-31T17:05:46.558929Z",
     "shell.execute_reply": "2024-05-31T17:05:46.557921Z"
    },
    "papermill": {
     "duration": 0.418687,
     "end_time": "2024-05-31T17:05:46.561754",
     "exception": false,
     "start_time": "2024-05-31T17:05:46.143067",
     "status": "completed"
    },
    "tags": []
   },
   "outputs": [],
   "source": [
    "from sklearn.ensemble import RandomForestClassifier\n",
    "\n",
    "rf = RandomForestClassifier(n_estimators = 40)\n",
    "rf.fit(xtrain, ytrain)\n",
    "y_pred_rf = rf.predict(xtest)"
   ]
  },
  {
   "cell_type": "code",
   "execution_count": 12,
   "id": "6a51bac9",
   "metadata": {
    "execution": {
     "iopub.execute_input": "2024-05-31T17:05:46.577259Z",
     "iopub.status.busy": "2024-05-31T17:05:46.576326Z",
     "iopub.status.idle": "2024-05-31T17:05:46.583492Z",
     "shell.execute_reply": "2024-05-31T17:05:46.582359Z"
    },
    "papermill": {
     "duration": 0.016387,
     "end_time": "2024-05-31T17:05:46.585617",
     "exception": false,
     "start_time": "2024-05-31T17:05:46.569230",
     "status": "completed"
    },
    "tags": []
   },
   "outputs": [
    {
     "name": "stdout",
     "output_type": "stream",
     "text": [
      "Accuracy of the random forest model is = 0.8601864181091877\n"
     ]
    }
   ],
   "source": [
    "# Evaluation and accuracy\n",
    "print('Accuracy of the random forest model is =', accuracy_score(ytest, y_pred_rf))"
   ]
  },
  {
   "cell_type": "code",
   "execution_count": null,
   "id": "69140c8a",
   "metadata": {
    "papermill": {
     "duration": 0.004601,
     "end_time": "2024-05-31T17:05:46.595043",
     "exception": false,
     "start_time": "2024-05-31T17:05:46.590442",
     "status": "completed"
    },
    "tags": []
   },
   "outputs": [],
   "source": []
  }
 ],
 "metadata": {
  "kaggle": {
   "accelerator": "none",
   "dataSources": [
    {
     "datasetId": 2102888,
     "sourceId": 3493583,
     "sourceType": "datasetVersion"
    }
   ],
   "dockerImageVersionId": 30715,
   "isGpuEnabled": false,
   "isInternetEnabled": true,
   "language": "python",
   "sourceType": "notebook"
  },
  "kernelspec": {
   "display_name": "Python 3",
   "language": "python",
   "name": "python3"
  },
  "language_info": {
   "codemirror_mode": {
    "name": "ipython",
    "version": 3
   },
   "file_extension": ".py",
   "mimetype": "text/x-python",
   "name": "python",
   "nbconvert_exporter": "python",
   "pygments_lexer": "ipython3",
   "version": "3.10.13"
  },
  "papermill": {
   "default_parameters": {},
   "duration": 6.670683,
   "end_time": "2024-05-31T17:05:47.220042",
   "environment_variables": {},
   "exception": null,
   "input_path": "__notebook__.ipynb",
   "output_path": "__notebook__.ipynb",
   "parameters": {},
   "start_time": "2024-05-31T17:05:40.549359",
   "version": "2.5.0"
  }
 },
 "nbformat": 4,
 "nbformat_minor": 5
}
